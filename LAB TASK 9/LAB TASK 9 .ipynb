{
 "cells": [
  {
   "cell_type": "markdown",
   "metadata": {},
   "source": [
    "### 1. Import Necessary Libraries"
   ]
  },
  {
   "cell_type": "code",
   "execution_count": 1,
   "metadata": {},
   "outputs": [],
   "source": [
    "import pandas as pd\n",
    "import numpy as np\n",
    "import re  \n",
    "from sklearn.model_selection import train_test_split\n",
    "from tensorflow.keras.preprocessing.text import Tokenizer\n",
    "from tensorflow.keras.preprocessing.sequence import pad_sequences\n",
    "from tensorflow.keras.models import Sequential\n",
    "from tensorflow.keras.layers import SimpleRNN, Dense, Embedding"
   ]
  },
  {
   "cell_type": "markdown",
   "metadata": {},
   "source": [
    "### 2. Load and Preprocess Data"
   ]
  },
  {
   "cell_type": "code",
   "execution_count": 2,
   "metadata": {},
   "outputs": [
    {
     "data": {
      "text/html": [
       "<div>\n",
       "<style scoped>\n",
       "    .dataframe tbody tr th:only-of-type {\n",
       "        vertical-align: middle;\n",
       "    }\n",
       "\n",
       "    .dataframe tbody tr th {\n",
       "        vertical-align: top;\n",
       "    }\n",
       "\n",
       "    .dataframe thead th {\n",
       "        text-align: right;\n",
       "    }\n",
       "</style>\n",
       "<table border=\"1\" class=\"dataframe\">\n",
       "  <thead>\n",
       "    <tr style=\"text-align: right;\">\n",
       "      <th></th>\n",
       "      <th>ID</th>\n",
       "      <th>Area</th>\n",
       "      <th>City</th>\n",
       "      <th>Restaurant Price</th>\n",
       "      <th>Avg Rating</th>\n",
       "      <th>Total Rating</th>\n",
       "      <th>Food Item</th>\n",
       "      <th>Food Type</th>\n",
       "      <th>Delivery Time</th>\n",
       "      <th>Review</th>\n",
       "    </tr>\n",
       "  </thead>\n",
       "  <tbody>\n",
       "    <tr>\n",
       "      <th>0</th>\n",
       "      <td>1</td>\n",
       "      <td>Suburb</td>\n",
       "      <td>Ahmedabad</td>\n",
       "      <td>600</td>\n",
       "      <td>4.2</td>\n",
       "      <td>6198</td>\n",
       "      <td>Sushi</td>\n",
       "      <td>Fast Food</td>\n",
       "      <td>30-40 min</td>\n",
       "      <td>Good, but nothing extraordinary.</td>\n",
       "    </tr>\n",
       "    <tr>\n",
       "      <th>1</th>\n",
       "      <td>2</td>\n",
       "      <td>Business District</td>\n",
       "      <td>Pune</td>\n",
       "      <td>200</td>\n",
       "      <td>4.7</td>\n",
       "      <td>4865</td>\n",
       "      <td>Pepperoni Pizza</td>\n",
       "      <td>Non-Vegetarian</td>\n",
       "      <td>50-60 min</td>\n",
       "      <td>Good, but nothing extraordinary.</td>\n",
       "    </tr>\n",
       "    <tr>\n",
       "      <th>2</th>\n",
       "      <td>3</td>\n",
       "      <td>Suburb</td>\n",
       "      <td>Bangalore</td>\n",
       "      <td>600</td>\n",
       "      <td>4.7</td>\n",
       "      <td>2095</td>\n",
       "      <td>Waffles</td>\n",
       "      <td>Fast Food</td>\n",
       "      <td>50-60 min</td>\n",
       "      <td>Late delivery ruined it.</td>\n",
       "    </tr>\n",
       "    <tr>\n",
       "      <th>3</th>\n",
       "      <td>4</td>\n",
       "      <td>Business District</td>\n",
       "      <td>Mumbai</td>\n",
       "      <td>900</td>\n",
       "      <td>4.0</td>\n",
       "      <td>6639</td>\n",
       "      <td>Sushi</td>\n",
       "      <td>Vegetarian</td>\n",
       "      <td>50-60 min</td>\n",
       "      <td>Best meal I've had in a while!</td>\n",
       "    </tr>\n",
       "    <tr>\n",
       "      <th>4</th>\n",
       "      <td>5</td>\n",
       "      <td>Tech Park</td>\n",
       "      <td>Mumbai</td>\n",
       "      <td>200</td>\n",
       "      <td>4.7</td>\n",
       "      <td>6926</td>\n",
       "      <td>Spring Rolls</td>\n",
       "      <td>Gluten-Free</td>\n",
       "      <td>20-30 min</td>\n",
       "      <td>Mediocre experience.</td>\n",
       "    </tr>\n",
       "    <tr>\n",
       "      <th>...</th>\n",
       "      <td>...</td>\n",
       "      <td>...</td>\n",
       "      <td>...</td>\n",
       "      <td>...</td>\n",
       "      <td>...</td>\n",
       "      <td>...</td>\n",
       "      <td>...</td>\n",
       "      <td>...</td>\n",
       "      <td>...</td>\n",
       "      <td>...</td>\n",
       "    </tr>\n",
       "    <tr>\n",
       "      <th>7995</th>\n",
       "      <td>7996</td>\n",
       "      <td>City Center</td>\n",
       "      <td>Mumbai</td>\n",
       "      <td>300</td>\n",
       "      <td>4.0</td>\n",
       "      <td>3303</td>\n",
       "      <td>BBQ Ribs</td>\n",
       "      <td>Vegan</td>\n",
       "      <td>20-30 min</td>\n",
       "      <td>My new favorite dish!</td>\n",
       "    </tr>\n",
       "    <tr>\n",
       "      <th>7996</th>\n",
       "      <td>7997</td>\n",
       "      <td>Downtown</td>\n",
       "      <td>Chennai</td>\n",
       "      <td>100</td>\n",
       "      <td>4.7</td>\n",
       "      <td>8742</td>\n",
       "      <td>Butter Chicken</td>\n",
       "      <td>Non-Vegetarian</td>\n",
       "      <td>20-30 min</td>\n",
       "      <td>Amazing taste and quick delivery.</td>\n",
       "    </tr>\n",
       "    <tr>\n",
       "      <th>7997</th>\n",
       "      <td>7998</td>\n",
       "      <td>Tech Park</td>\n",
       "      <td>Chennai</td>\n",
       "      <td>900</td>\n",
       "      <td>4.5</td>\n",
       "      <td>4645</td>\n",
       "      <td>Mango Shake</td>\n",
       "      <td>Fast Food</td>\n",
       "      <td>30-40 min</td>\n",
       "      <td>Nothing special but edible.</td>\n",
       "    </tr>\n",
       "    <tr>\n",
       "      <th>7998</th>\n",
       "      <td>7999</td>\n",
       "      <td>Old Town</td>\n",
       "      <td>Delhi</td>\n",
       "      <td>500</td>\n",
       "      <td>4.2</td>\n",
       "      <td>3218</td>\n",
       "      <td>Grilled Cheese</td>\n",
       "      <td>Non-Vegetarian</td>\n",
       "      <td>50-60 min</td>\n",
       "      <td>It was okay.</td>\n",
       "    </tr>\n",
       "    <tr>\n",
       "      <th>7999</th>\n",
       "      <td>8000</td>\n",
       "      <td>Downtown</td>\n",
       "      <td>Delhi</td>\n",
       "      <td>400</td>\n",
       "      <td>4.5</td>\n",
       "      <td>7739</td>\n",
       "      <td>Burrito</td>\n",
       "      <td>Vegan</td>\n",
       "      <td>30-40 min</td>\n",
       "      <td>Delicious and fresh.</td>\n",
       "    </tr>\n",
       "  </tbody>\n",
       "</table>\n",
       "<p>8000 rows × 10 columns</p>\n",
       "</div>"
      ],
      "text/plain": [
       "        ID               Area       City  Restaurant Price  Avg Rating  \\\n",
       "0        1             Suburb  Ahmedabad               600         4.2   \n",
       "1        2  Business District       Pune               200         4.7   \n",
       "2        3             Suburb  Bangalore               600         4.7   \n",
       "3        4  Business District     Mumbai               900         4.0   \n",
       "4        5          Tech Park     Mumbai               200         4.7   \n",
       "...    ...                ...        ...               ...         ...   \n",
       "7995  7996        City Center     Mumbai               300         4.0   \n",
       "7996  7997           Downtown    Chennai               100         4.7   \n",
       "7997  7998          Tech Park    Chennai               900         4.5   \n",
       "7998  7999           Old Town      Delhi               500         4.2   \n",
       "7999  8000           Downtown      Delhi               400         4.5   \n",
       "\n",
       "      Total Rating        Food Item       Food Type Delivery Time  \\\n",
       "0             6198            Sushi       Fast Food     30-40 min   \n",
       "1             4865  Pepperoni Pizza  Non-Vegetarian     50-60 min   \n",
       "2             2095          Waffles       Fast Food     50-60 min   \n",
       "3             6639            Sushi      Vegetarian     50-60 min   \n",
       "4             6926     Spring Rolls     Gluten-Free     20-30 min   \n",
       "...            ...              ...             ...           ...   \n",
       "7995          3303         BBQ Ribs           Vegan     20-30 min   \n",
       "7996          8742   Butter Chicken  Non-Vegetarian     20-30 min   \n",
       "7997          4645      Mango Shake       Fast Food     30-40 min   \n",
       "7998          3218   Grilled Cheese  Non-Vegetarian     50-60 min   \n",
       "7999          7739          Burrito           Vegan     30-40 min   \n",
       "\n",
       "                                 Review  \n",
       "0      Good, but nothing extraordinary.  \n",
       "1      Good, but nothing extraordinary.  \n",
       "2              Late delivery ruined it.  \n",
       "3        Best meal I've had in a while!  \n",
       "4                  Mediocre experience.  \n",
       "...                                 ...  \n",
       "7995              My new favorite dish!  \n",
       "7996  Amazing taste and quick delivery.  \n",
       "7997        Nothing special but edible.  \n",
       "7998                       It was okay.  \n",
       "7999               Delicious and fresh.  \n",
       "\n",
       "[8000 rows x 10 columns]"
      ]
     },
     "execution_count": 2,
     "metadata": {},
     "output_type": "execute_result"
    }
   ],
   "source": [
    "\n",
    "data = pd.read_csv(r'C:\\Users\\WB\\Desktop\\swiggy.csv')\n",
    "data"
   ]
  },
  {
   "cell_type": "code",
   "execution_count": 3,
   "metadata": {},
   "outputs": [],
   "source": [
    "data[\"Review\"] = data[\"Review\"].str.lower().replace(r'[^a-z0-9\\s]', '', regex=True)\n",
    "data['sentiment'] = (data['Avg Rating'] > 3.5).astype(int)\n",
    "data = data.dropna() \n"
   ]
  },
  {
   "cell_type": "markdown",
   "metadata": {},
   "source": [
    "### 3. Tokenization & Text Processing"
   ]
  },
  {
   "cell_type": "code",
   "execution_count": 4,
   "metadata": {},
   "outputs": [],
   "source": [
    "max_features, max_length = 5000, 200\n",
    "tokenizer = Tokenizer(num_words=max_features)\n",
    "tokenizer.fit_on_texts(data[\"Review\"])\n",
    "X = pad_sequences(tokenizer.texts_to_sequences(data[\"Review\"]), maxlen=max_length)\n",
    "y = data['sentiment'].values  "
   ]
  },
  {
   "cell_type": "markdown",
   "metadata": {},
   "source": [
    "### 4. Splitting Data into Train, Test Sets"
   ]
  },
  {
   "cell_type": "code",
   "execution_count": 5,
   "metadata": {},
   "outputs": [],
   "source": [
    "X_train, X_test, y_train, y_test = train_test_split(X, y, test_size=0.2, random_state=42, stratify=y)\n",
    "X_train, X_val, y_train, y_val = train_test_split(X_train, y_train, test_size=0.1, random_state=42, stratify=y_train)"
   ]
  },
  {
   "cell_type": "markdown",
   "metadata": {},
   "source": [
    "### 5. Building the Model"
   ]
  },
  {
   "cell_type": "code",
   "execution_count": 6,
   "metadata": {},
   "outputs": [
    {
     "name": "stderr",
     "output_type": "stream",
     "text": [
      "C:\\Users\\WB\\AppData\\Roaming\\Python\\Python312\\site-packages\\keras\\src\\layers\\core\\embedding.py:90: UserWarning: Argument `input_length` is deprecated. Just remove it.\n",
      "  warnings.warn(\n"
     ]
    }
   ],
   "source": [
    "model = Sequential([\n",
    "    Embedding(max_features, 16, input_length=max_length),\n",
    "    SimpleRNN(64, activation='tanh'),\n",
    "    Dense(1, activation='sigmoid')\n",
    "])\n",
    "model.compile(loss='binary_crossentropy', optimizer='adam', metrics=['accuracy'])"
   ]
  },
  {
   "cell_type": "markdown",
   "metadata": {},
   "source": [
    "### 6. Train the Model"
   ]
  },
  {
   "cell_type": "code",
   "execution_count": 7,
   "metadata": {},
   "outputs": [
    {
     "name": "stdout",
     "output_type": "stream",
     "text": [
      "Epoch 1/5\n",
      "\u001b[1m180/180\u001b[0m \u001b[32m━━━━━━━━━━━━━━━━━━━━\u001b[0m\u001b[37m\u001b[0m \u001b[1m26s\u001b[0m 102ms/step - accuracy: 0.7081 - loss: 0.6044 - val_accuracy: 0.7156 - val_loss: 0.5987\n",
      "Epoch 2/5\n",
      "\u001b[1m180/180\u001b[0m \u001b[32m━━━━━━━━━━━━━━━━━━━━\u001b[0m\u001b[37m\u001b[0m \u001b[1m17s\u001b[0m 79ms/step - accuracy: 0.7090 - loss: 0.6053 - val_accuracy: 0.7156 - val_loss: 0.5971\n",
      "Epoch 3/5\n",
      "\u001b[1m180/180\u001b[0m \u001b[32m━━━━━━━━━━━━━━━━━━━━\u001b[0m\u001b[37m\u001b[0m \u001b[1m19s\u001b[0m 73ms/step - accuracy: 0.7140 - loss: 0.5990 - val_accuracy: 0.7156 - val_loss: 0.5972\n",
      "Epoch 4/5\n",
      "\u001b[1m180/180\u001b[0m \u001b[32m━━━━━━━━━━━━━━━━━━━━\u001b[0m\u001b[37m\u001b[0m \u001b[1m21s\u001b[0m 72ms/step - accuracy: 0.7179 - loss: 0.5965 - val_accuracy: 0.7156 - val_loss: 0.5987\n",
      "Epoch 5/5\n",
      "\u001b[1m180/180\u001b[0m \u001b[32m━━━━━━━━━━━━━━━━━━━━\u001b[0m\u001b[37m\u001b[0m \u001b[1m23s\u001b[0m 87ms/step - accuracy: 0.7174 - loss: 0.5957 - val_accuracy: 0.7156 - val_loss: 0.5967\n"
     ]
    },
    {
     "data": {
      "text/plain": [
       "<keras.src.callbacks.history.History at 0x20d13c79eb0>"
      ]
     },
     "execution_count": 7,
     "metadata": {},
     "output_type": "execute_result"
    }
   ],
   "source": [
    "model.fit(X_train, y_train, epochs=5, batch_size=32, validation_data=(X_val, y_val), verbose=1)"
   ]
  },
  {
   "cell_type": "markdown",
   "metadata": {},
   "source": [
    "### 7. Model Evaluation"
   ]
  },
  {
   "cell_type": "code",
   "execution_count": 32,
   "metadata": {},
   "outputs": [
    {
     "name": "stdout",
     "output_type": "stream",
     "text": [
      "Test accuracy: 0.72\n"
     ]
    }
   ],
   "source": [
    "_, test_acc = model.evaluate(X_test, y_test, verbose=0)\n",
    "print(f\"Test accuracy: {test_acc:.2f}\")"
   ]
  },
  {
   "cell_type": "markdown",
   "metadata": {},
   "source": [
    "### 8. Predict Sentiment for New Reviews"
   ]
  },
  {
   "cell_type": "code",
   "execution_count": 33,
   "metadata": {},
   "outputs": [],
   "source": [
    "def predict_sentiment(text):\n",
    "    text = re.sub(r'[^a-z0-9\\s]', '', text.lower())\n",
    "    seq = pad_sequences(tokenizer.texts_to_sequences([text]), maxlen=max_length)\n",
    "    prob = model.predict(seq)[0][0]\n",
    "    return f\"{'Positive' if prob >= 0.5 else 'Negative'} (Probability: {prob:.2f})\""
   ]
  },
  {
   "cell_type": "markdown",
   "metadata": {},
   "source": [
    "### 9. Prediction"
   ]
  },
  {
   "cell_type": "code",
   "execution_count": 34,
   "metadata": {},
   "outputs": [
    {
     "name": "stdout",
     "output_type": "stream",
     "text": [
      "\u001b[1m1/1\u001b[0m \u001b[32m━━━━━━━━━━━━━━━━━━━━\u001b[0m\u001b[37m\u001b[0m \u001b[1m2s\u001b[0m 2s/step\n",
      "Positive (Probability: 0.72)\n"
     ]
    }
   ],
   "source": [
    "print(predict_sentiment(\"The food was great.\"))"
   ]
  }
 ],
 "metadata": {
  "kernelspec": {
   "display_name": "base",
   "language": "python",
   "name": "python3"
  },
  "language_info": {
   "codemirror_mode": {
    "name": "ipython",
    "version": 3
   },
   "file_extension": ".py",
   "mimetype": "text/x-python",
   "name": "python",
   "nbconvert_exporter": "python",
   "pygments_lexer": "ipython3",
   "version": "3.12.3"
  }
 },
 "nbformat": 4,
 "nbformat_minor": 2
}
